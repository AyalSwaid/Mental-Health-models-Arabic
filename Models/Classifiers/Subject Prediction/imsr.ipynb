{
 "cells": [
  {
   "cell_type": "code",
   "execution_count": null,
   "metadata": {},
   "outputs": [],
   "source": [
    "import pandas as pd\n",
    "import numpy as np\n",
    "from tqdm import tqdm_pandas\n",
    "from tqdm.notebook import tqdm\n",
    "from transformers import BertModel, BertTokenizerFast, Trainer, TrainingArguments, AutoModelForSequenceClassification, AutoTokenizer, BertForSequenceClassification, BertTokenizer\n",
    "import torch\n",
    "from datasets import Dataset\n",
    "from sklearn.model_selection import train_test_split\n",
    "from torch.utils.data import DataLoader\n",
    "from sklearn.metrics import accuracy_score, precision_recall_fscore_support,  roc_auc_score, fbeta_score\n",
    "\n",
    "import warnings\n",
    "warnings.filterwarnings(\"ignore\")"
   ]
  },
  {
   "cell_type": "markdown",
   "metadata": {},
   "source": [
    "1. Loading pretrained Model\n",
    "2. Loading the data\n",
    "3. Preprocessing the data\n",
    "4. Training the model\n",
    "5. Evaluating the model"
   ]
  },
  {
   "cell_type": "code",
   "execution_count": null,
   "metadata": {},
   "outputs": [],
   "source": [
    "# hyperparameters\n",
    "batch_size = 16\n",
    "epochs = 3\n",
    "learning_rate = 2e-5"
   ]
  },
  {
   "cell_type": "markdown",
   "metadata": {},
   "source": [
    "## Creating Model and Tokenizer"
   ]
  },
  {
   "cell_type": "code",
   "execution_count": null,
   "metadata": {},
   "outputs": [],
   "source": [
    "model_name = 'onlplab/alephbert-base'\n",
    "tokenizer = AutoTokenizer.from_pretrained(model_name)\n",
    "bert_model = AutoModelForSequenceClassification.from_pretrained(model_name)\n",
    "\n",
    "device = torch.device('cuda' if torch.cuda.is_available() else 'cpu')\n",
    "bert_model = bert_model.to(device)"
   ]
  },
  {
   "cell_type": "markdown",
   "metadata": {},
   "source": [
    "## Loading Data"
   ]
  },
  {
   "cell_type": "code",
   "execution_count": null,
   "metadata": {},
   "outputs": [],
   "source": [
    "conv_info_path = 'conv_info.csv'\n",
    "messages_path = 'messages_anonymized.csv'\n",
    "\n",
    "conv_info_df = pd.read_csv(conv_info_path)\n",
    "messages_df = pd.read_csv(messages_path)\n",
    "\n",
    "conv_info_df['engagement_id'] = conv_info_df['engagement_id'].astype(str)\n",
    "messages_df['engagement_id'] = messages_df['engagement_id'].astype(str)\n",
    "messages_df = messages_df[messages_df['anonymized'].notna()]\n",
    "messages_df['name'] = messages_df['name'].fillna('-')"
   ]
  },
  {
   "cell_type": "code",
   "execution_count": null,
   "metadata": {},
   "outputs": [],
   "source": [
    "ids = conv_info_df['engagement_id']\n",
    "conv_info_df = conv_info_df[conv_info_df['engagement_id'].isin(ids)]\n",
    "messages_df = messages_df[messages_df['engagement_id'].isin(ids)]"
   ]
  },
  {
   "cell_type": "markdown",
   "metadata": {},
   "source": [
    "## Preprocessing Data"
   ]
  },
  {
   "cell_type": "code",
   "execution_count": null,
   "metadata": {},
   "outputs": [],
   "source": [
    "# grouping messages with conversation information to pair text and label\n",
    "merged_df = messages_df.merge(conv_info_df, on='engagement_id')\n",
    "\n",
    "# for better results we take only text from help seeker\n",
    "merged_df = merged_df[merged_df['seeker'] == True]\n",
    "\n",
    "# aggregating messages such that each row contains the entire conversation\n",
    "merged_df = merged_df.groupby('engagement_id').agg({'anonymized': '[SEP]'.join, 'imsr': 'first'}).reset_index()\n",
    "\n",
    "# renaming label column (convention) and creating a Dataset object\n",
    "merged_df = merged_df.rename(columns={'imsr': 'label'})\n",
    "\n",
    "# split to train and test stratisfied by label\n",
    "train_df, test_df = train_test_split(merged_df, test_size=0.2, stratify=merged_df['label'])"
   ]
  },
  {
   "cell_type": "markdown",
   "metadata": {},
   "source": [
    "## Create Dataloaders"
   ]
  },
  {
   "cell_type": "code",
   "execution_count": null,
   "metadata": {},
   "outputs": [],
   "source": [
    "# creating Dataset objects\n",
    "train_dataset = Dataset.from_pandas(train_df)\n",
    "test_dataset = Dataset.from_pandas(test_df)\n",
    "\n",
    "# mapping the text into inputs that fits the model\n",
    "def tokenize(batch):\n",
    "    return tokenizer(batch['anonymized'], padding='max_length', truncation=True, max_length=512)\n",
    "\n",
    "train_dataset = train_dataset.map(tokenize, batched=True, batch_size=16)\n",
    "test_dataset = test_dataset.map(tokenize, batched=True, batch_size=16)\n",
    "\n",
    "# setting the format to pytorch tensors\n",
    "train_dataset.set_format('torch', columns=['input_ids', 'attention_mask', 'label'])\n",
    "test_dataset.set_format('torch', columns=['input_ids', 'attention_mask', 'label'])\n",
    "\n",
    "train_loader = DataLoader(train_dataset, batch_size=batch_size, shuffle=True)\n",
    "test_loader = DataLoader(test_dataset, batch_size=batch_size, shuffle=False)"
   ]
  },
  {
   "cell_type": "markdown",
   "metadata": {},
   "source": [
    "## Training the Model"
   ]
  },
  {
   "cell_type": "code",
   "execution_count": null,
   "metadata": {},
   "outputs": [],
   "source": [
    "for batch in train_loader:\n",
    "    print(batch)\n",
    "    break"
   ]
  },
  {
   "cell_type": "code",
   "execution_count": null,
   "metadata": {},
   "outputs": [],
   "source": [
    "optimizer = torch.optim.AdamW(bert_model.parameters(), lr=learning_rate)\n",
    "bert_model.train()\n",
    "\n",
    "progress_bar = tqdm(range(epochs * len(train_loader)), desc=\"Training\")\n",
    "\n",
    "for epoch in range(epochs):\n",
    "    for batch in train_loader:\n",
    "        optimizer.zero_grad()\n",
    "        input_ids = batch['input_ids'].to(device)\n",
    "        attention_mask = batch['attention_mask'].to(device)\n",
    "        labels = batch['label'].to(device)\n",
    "\n",
    "        outputs = bert_model(input_ids, attention_mask=attention_mask, labels=labels)\n",
    "\n",
    "        loss = outputs.loss\n",
    "        loss.backward()\n",
    "        optimizer.step()\n",
    "        progress_bar.update(1)\n",
    "\n",
    "progress_bar.close()"
   ]
  },
  {
   "cell_type": "markdown",
   "metadata": {},
   "source": [
    "## Evaluating the Model"
   ]
  },
  {
   "cell_type": "code",
   "execution_count": null,
   "metadata": {},
   "outputs": [],
   "source": [
    "bert_model.eval()\n",
    "labels = []\n",
    "preds = []\n",
    "pred_probs = []\n",
    "\n",
    "for batch in tqdm(test_loader):\n",
    "    input_ids = batch['input_ids'].to(device)\n",
    "    attention_mask = batch['attention_mask'].to(device)\n",
    "    label = batch['label'].to(device)\n",
    "\n",
    "    with torch.no_grad():\n",
    "        outputs = bert_model(input_ids, attention_mask=attention_mask)\n",
    "\n",
    "    logits = outputs.logits\n",
    "    probabilities = torch.softmax(logits, dim=-1)\n",
    "    predictions = torch.argmax(logits, dim=-1)\n",
    "\n",
    "    labels.extend(label.cpu().numpy())\n",
    "    preds.extend(predictions.cpu().numpy())\n",
    "    pred_probs.extend(probabilities[:, 1].cpu().numpy())"
   ]
  },
  {
   "cell_type": "code",
   "execution_count": null,
   "metadata": {},
   "outputs": [],
   "source": [
    "accuracy = accuracy_score(labels, preds)\n",
    "precision, recall, f1, _ = precision_recall_fscore_support(labels, preds, average='binary')\n",
    "roc_auc = roc_auc_score(labels, pred_probs)\n",
    "f2 = fbeta_score(labels, preds, beta=2)\n",
    "\n",
    "print(f'Accuracy: {accuracy}')\n",
    "print(f'Precision: {precision}')\n",
    "print(f'Recall: {recall}')\n",
    "print(f'F1: {f1}')\n",
    "print(f'ROC-AUC: {roc_auc}')\n",
    "print(f'F2: {f2}')"
   ]
  }
 ],
 "metadata": {
  "kernelspec": {
   "display_name": "env1",
   "language": "python",
   "name": "python3"
  },
  "language_info": {
   "codemirror_mode": {
    "name": "ipython",
    "version": 3
   },
   "file_extension": ".py",
   "mimetype": "text/x-python",
   "name": "python",
   "nbconvert_exporter": "python",
   "pygments_lexer": "ipython3",
   "version": "3.12.3"
  }
 },
 "nbformat": 4,
 "nbformat_minor": 2
}
